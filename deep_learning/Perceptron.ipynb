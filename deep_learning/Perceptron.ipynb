{
 "cells": [
  {
   "cell_type": "markdown",
   "metadata": {},
   "source": [
    "# Perceptron"
   ]
  },
  {
   "cell_type": "markdown",
   "metadata": {
    "tags": []
   },
   "source": [
    "## Drawbacks\n",
    "\n",
    "* Works only when data is linearly separable."
   ]
  },
  {
   "cell_type": "markdown",
   "metadata": {
    "tags": []
   },
   "source": [
    "## Code Implementation for Perceptron"
   ]
  },
  {
   "cell_type": "code",
   "execution_count": 1,
   "metadata": {},
   "outputs": [],
   "source": [
    "import numpy as np\n",
    "import matplotlib.pyplot as plt\n",
    "import pandas as pd\n",
    "import joblib\n",
    "\n",
    "plt.style.use(\"fivethirtyeight\")"
   ]
  },
  {
   "cell_type": "code",
   "execution_count": 2,
   "metadata": {},
   "outputs": [],
   "source": [
    "class Perceptron:\n",
    "    def __init__(self, eta, epochs):\n",
    "        self.weights= np.random.randn(3)*1e-4\n",
    "        self.eta = eta\n",
    "        self.epochs =epochs\n",
    "    \n",
    "    def activationFunction(self,inputs, weights):\n",
    "        return np.where(np.dot(inputs, weights)>0,1,0)\n",
    "    \n",
    "    def fit(self, X,y):\n",
    "        self.X = X\n",
    "        self.y = y\n",
    "        \n",
    "        print(f\"X original-\\n {self.X}\")\n",
    "        X_with_bias = np.c_[self.X, -np.ones(shape=(len(self.X),1))]\n",
    "        print(f\"\\nX with bias-\\n {pd.DataFrame(X_with_bias)}\")\n",
    "        \n",
    "        for epoch in range(self.epochs):\n",
    "            actual_epoch = epoch+1\n",
    "            print(f\"\\nEpoch no- {actual_epoch}\")\n",
    "            y_hat=self.activationFunction(X_with_bias, self.weights)\n",
    "            print(f\"\\nPredicted Value- {y_hat}\")\n",
    "            error=self.y-y_hat\n",
    "            print(f\"\\nError-\\n{error}\")\n",
    "            error_sum = np.sum(np.abs(error))\n",
    "            print(f\"\\nAbsolute Error- {error_sum}\")\n",
    "            print(f\"Weights before update- {self.weights}\")\n",
    "            \n",
    "            if(error_sum==0):\n",
    "                print(f\"\\nModel convergence completed on epoch-{actual_epoch}!!\")\n",
    "                break\n",
    "            ##weight update logic for perceptron\n",
    "            self.weights = self.weights + self.eta* np.dot(X_with_bias.T,error)\n",
    "            print(f\"Weights after update- {self.weights}\")\n",
    "            \n",
    "    def predict(self, X):\n",
    "        X_with_bias = np.c_[X,-np.ones(shape=(len(X),1))]\n",
    "        return self.activationFunction(X_with_bias, self.weights)"
   ]
  },
  {
   "cell_type": "code",
   "execution_count": 3,
   "metadata": {},
   "outputs": [],
   "source": []
  },
  {
   "cell_type": "markdown",
   "metadata": {},
   "source": [
    "### AND"
   ]
  },
  {
   "cell_type": "code",
   "execution_count": 4,
   "metadata": {},
   "outputs": [
    {
     "data": {
      "text/html": [
       "<div>\n",
       "<style scoped>\n",
       "    .dataframe tbody tr th:only-of-type {\n",
       "        vertical-align: middle;\n",
       "    }\n",
       "\n",
       "    .dataframe tbody tr th {\n",
       "        vertical-align: top;\n",
       "    }\n",
       "\n",
       "    .dataframe thead th {\n",
       "        text-align: right;\n",
       "    }\n",
       "</style>\n",
       "<table border=\"1\" class=\"dataframe\">\n",
       "  <thead>\n",
       "    <tr style=\"text-align: right;\">\n",
       "      <th></th>\n",
       "      <th>x1</th>\n",
       "      <th>x2</th>\n",
       "      <th>y</th>\n",
       "    </tr>\n",
       "  </thead>\n",
       "  <tbody>\n",
       "    <tr>\n",
       "      <th>0</th>\n",
       "      <td>0</td>\n",
       "      <td>0</td>\n",
       "      <td>0</td>\n",
       "    </tr>\n",
       "    <tr>\n",
       "      <th>1</th>\n",
       "      <td>0</td>\n",
       "      <td>1</td>\n",
       "      <td>0</td>\n",
       "    </tr>\n",
       "    <tr>\n",
       "      <th>2</th>\n",
       "      <td>1</td>\n",
       "      <td>0</td>\n",
       "      <td>0</td>\n",
       "    </tr>\n",
       "    <tr>\n",
       "      <th>3</th>\n",
       "      <td>1</td>\n",
       "      <td>1</td>\n",
       "      <td>1</td>\n",
       "    </tr>\n",
       "  </tbody>\n",
       "</table>\n",
       "</div>"
      ],
      "text/plain": [
       "   x1  x2  y\n",
       "0   0   0  0\n",
       "1   0   1  0\n",
       "2   1   0  0\n",
       "3   1   1  1"
      ]
     },
     "execution_count": 4,
     "metadata": {},
     "output_type": "execute_result"
    }
   ],
   "source": [
    "data={\"x1\":[0,0,1,1],\"x2\":[0,1,0,1],\"y\":[0,0,0,1]}\n",
    "AND = pd.DataFrame(data)\n",
    "AND"
   ]
  },
  {
   "cell_type": "code",
   "execution_count": 5,
   "metadata": {},
   "outputs": [
    {
     "data": {
      "text/html": [
       "<div>\n",
       "<style scoped>\n",
       "    .dataframe tbody tr th:only-of-type {\n",
       "        vertical-align: middle;\n",
       "    }\n",
       "\n",
       "    .dataframe tbody tr th {\n",
       "        vertical-align: top;\n",
       "    }\n",
       "\n",
       "    .dataframe thead th {\n",
       "        text-align: right;\n",
       "    }\n",
       "</style>\n",
       "<table border=\"1\" class=\"dataframe\">\n",
       "  <thead>\n",
       "    <tr style=\"text-align: right;\">\n",
       "      <th></th>\n",
       "      <th>x1</th>\n",
       "      <th>x2</th>\n",
       "    </tr>\n",
       "  </thead>\n",
       "  <tbody>\n",
       "    <tr>\n",
       "      <th>0</th>\n",
       "      <td>0</td>\n",
       "      <td>0</td>\n",
       "    </tr>\n",
       "    <tr>\n",
       "      <th>1</th>\n",
       "      <td>0</td>\n",
       "      <td>1</td>\n",
       "    </tr>\n",
       "    <tr>\n",
       "      <th>2</th>\n",
       "      <td>1</td>\n",
       "      <td>0</td>\n",
       "    </tr>\n",
       "    <tr>\n",
       "      <th>3</th>\n",
       "      <td>1</td>\n",
       "      <td>1</td>\n",
       "    </tr>\n",
       "  </tbody>\n",
       "</table>\n",
       "</div>"
      ],
      "text/plain": [
       "   x1  x2\n",
       "0   0   0\n",
       "1   0   1\n",
       "2   1   0\n",
       "3   1   1"
      ]
     },
     "execution_count": 5,
     "metadata": {},
     "output_type": "execute_result"
    }
   ],
   "source": [
    "X = AND.drop(\"y\",axis=1)\n",
    "X"
   ]
  },
  {
   "cell_type": "code",
   "execution_count": 6,
   "metadata": {},
   "outputs": [
    {
     "data": {
      "text/plain": [
       "0    0\n",
       "1    0\n",
       "2    0\n",
       "3    1\n",
       "Name: y, dtype: int64"
      ]
     },
     "execution_count": 6,
     "metadata": {},
     "output_type": "execute_result"
    }
   ],
   "source": [
    "y=AND[\"y\"]\n",
    "y"
   ]
  },
  {
   "cell_type": "code",
   "execution_count": 11,
   "metadata": {},
   "outputs": [],
   "source": [
    "model = Perceptron(eta=0.01, epochs=10)"
   ]
  },
  {
   "cell_type": "code",
   "execution_count": 12,
   "metadata": {},
   "outputs": [
    {
     "name": "stdout",
     "output_type": "stream",
     "text": [
      "X original-\n",
      "    x1  x2\n",
      "0   0   0\n",
      "1   0   1\n",
      "2   1   0\n",
      "3   1   1\n",
      "\n",
      "X with bias-\n",
      "      0    1    2\n",
      "0  0.0  0.0 -1.0\n",
      "1  0.0  1.0 -1.0\n",
      "2  1.0  0.0 -1.0\n",
      "3  1.0  1.0 -1.0\n",
      "\n",
      "Epoch no- 1\n",
      "\n",
      "Predicted Value- [1 1 0 1]\n",
      "\n",
      "Error-\n",
      "0   -1\n",
      "1   -1\n",
      "2    0\n",
      "3    0\n",
      "Name: y, dtype: int64\n",
      "\n",
      "Absolute Error- 2\n",
      "Weights before update- [-5.13914432e-05  1.27305419e-04 -2.10115545e-06]\n",
      "Weights after update- [-5.13914432e-05 -9.87269458e-03  1.99978988e-02]\n",
      "\n",
      "Epoch no- 2\n",
      "\n",
      "Predicted Value- [0 0 0 0]\n",
      "\n",
      "Error-\n",
      "0    0\n",
      "1    0\n",
      "2    0\n",
      "3    1\n",
      "Name: y, dtype: int64\n",
      "\n",
      "Absolute Error- 1\n",
      "Weights before update- [-5.13914432e-05 -9.87269458e-03  1.99978988e-02]\n",
      "Weights after update- [0.00994861 0.00012731 0.0099979 ]\n",
      "\n",
      "Epoch no- 3\n",
      "\n",
      "Predicted Value- [0 0 0 1]\n",
      "\n",
      "Error-\n",
      "0    0\n",
      "1    0\n",
      "2    0\n",
      "3    0\n",
      "Name: y, dtype: int64\n",
      "\n",
      "Absolute Error- 0\n",
      "Weights before update- [0.00994861 0.00012731 0.0099979 ]\n",
      "\n",
      "Model convergence completed on epoch-3!!\n"
     ]
    }
   ],
   "source": [
    "model.fit(X,y)"
   ]
  },
  {
   "cell_type": "code",
   "execution_count": 23,
   "metadata": {},
   "outputs": [
    {
     "data": {
      "text/plain": [
       "array([0, 0, 0, 1])"
      ]
     },
     "execution_count": 23,
     "metadata": {},
     "output_type": "execute_result"
    }
   ],
   "source": [
    "model.predict(X)"
   ]
  },
  {
   "cell_type": "markdown",
   "metadata": {},
   "source": [
    "### OR"
   ]
  },
  {
   "cell_type": "code",
   "execution_count": 13,
   "metadata": {},
   "outputs": [
    {
     "data": {
      "text/html": [
       "<div>\n",
       "<style scoped>\n",
       "    .dataframe tbody tr th:only-of-type {\n",
       "        vertical-align: middle;\n",
       "    }\n",
       "\n",
       "    .dataframe tbody tr th {\n",
       "        vertical-align: top;\n",
       "    }\n",
       "\n",
       "    .dataframe thead th {\n",
       "        text-align: right;\n",
       "    }\n",
       "</style>\n",
       "<table border=\"1\" class=\"dataframe\">\n",
       "  <thead>\n",
       "    <tr style=\"text-align: right;\">\n",
       "      <th></th>\n",
       "      <th>x1</th>\n",
       "      <th>x2</th>\n",
       "      <th>y</th>\n",
       "    </tr>\n",
       "  </thead>\n",
       "  <tbody>\n",
       "    <tr>\n",
       "      <th>0</th>\n",
       "      <td>0</td>\n",
       "      <td>0</td>\n",
       "      <td>0</td>\n",
       "    </tr>\n",
       "    <tr>\n",
       "      <th>1</th>\n",
       "      <td>0</td>\n",
       "      <td>1</td>\n",
       "      <td>1</td>\n",
       "    </tr>\n",
       "    <tr>\n",
       "      <th>2</th>\n",
       "      <td>1</td>\n",
       "      <td>0</td>\n",
       "      <td>1</td>\n",
       "    </tr>\n",
       "    <tr>\n",
       "      <th>3</th>\n",
       "      <td>1</td>\n",
       "      <td>1</td>\n",
       "      <td>1</td>\n",
       "    </tr>\n",
       "  </tbody>\n",
       "</table>\n",
       "</div>"
      ],
      "text/plain": [
       "   x1  x2  y\n",
       "0   0   0  0\n",
       "1   0   1  1\n",
       "2   1   0  1\n",
       "3   1   1  1"
      ]
     },
     "execution_count": 13,
     "metadata": {},
     "output_type": "execute_result"
    }
   ],
   "source": [
    "data={\"x1\":[0,0,1,1],\"x2\":[0,1,0,1],\"y\":[0,1,1,1]}\n",
    "OR = pd.DataFrame(data)\n",
    "OR"
   ]
  },
  {
   "cell_type": "code",
   "execution_count": 14,
   "metadata": {},
   "outputs": [
    {
     "data": {
      "text/html": [
       "<div>\n",
       "<style scoped>\n",
       "    .dataframe tbody tr th:only-of-type {\n",
       "        vertical-align: middle;\n",
       "    }\n",
       "\n",
       "    .dataframe tbody tr th {\n",
       "        vertical-align: top;\n",
       "    }\n",
       "\n",
       "    .dataframe thead th {\n",
       "        text-align: right;\n",
       "    }\n",
       "</style>\n",
       "<table border=\"1\" class=\"dataframe\">\n",
       "  <thead>\n",
       "    <tr style=\"text-align: right;\">\n",
       "      <th></th>\n",
       "      <th>x1</th>\n",
       "      <th>x2</th>\n",
       "    </tr>\n",
       "  </thead>\n",
       "  <tbody>\n",
       "    <tr>\n",
       "      <th>0</th>\n",
       "      <td>0</td>\n",
       "      <td>0</td>\n",
       "    </tr>\n",
       "    <tr>\n",
       "      <th>1</th>\n",
       "      <td>0</td>\n",
       "      <td>1</td>\n",
       "    </tr>\n",
       "    <tr>\n",
       "      <th>2</th>\n",
       "      <td>1</td>\n",
       "      <td>0</td>\n",
       "    </tr>\n",
       "    <tr>\n",
       "      <th>3</th>\n",
       "      <td>1</td>\n",
       "      <td>1</td>\n",
       "    </tr>\n",
       "  </tbody>\n",
       "</table>\n",
       "</div>"
      ],
      "text/plain": [
       "   x1  x2\n",
       "0   0   0\n",
       "1   0   1\n",
       "2   1   0\n",
       "3   1   1"
      ]
     },
     "execution_count": 14,
     "metadata": {},
     "output_type": "execute_result"
    }
   ],
   "source": [
    "X = OR.drop(\"y\",axis=1)\n",
    "X"
   ]
  },
  {
   "cell_type": "code",
   "execution_count": 15,
   "metadata": {},
   "outputs": [
    {
     "data": {
      "text/html": [
       "<div>\n",
       "<style scoped>\n",
       "    .dataframe tbody tr th:only-of-type {\n",
       "        vertical-align: middle;\n",
       "    }\n",
       "\n",
       "    .dataframe tbody tr th {\n",
       "        vertical-align: top;\n",
       "    }\n",
       "\n",
       "    .dataframe thead th {\n",
       "        text-align: right;\n",
       "    }\n",
       "</style>\n",
       "<table border=\"1\" class=\"dataframe\">\n",
       "  <thead>\n",
       "    <tr style=\"text-align: right;\">\n",
       "      <th></th>\n",
       "      <th>y</th>\n",
       "    </tr>\n",
       "  </thead>\n",
       "  <tbody>\n",
       "    <tr>\n",
       "      <th>0</th>\n",
       "      <td>0</td>\n",
       "    </tr>\n",
       "    <tr>\n",
       "      <th>1</th>\n",
       "      <td>1</td>\n",
       "    </tr>\n",
       "    <tr>\n",
       "      <th>2</th>\n",
       "      <td>1</td>\n",
       "    </tr>\n",
       "    <tr>\n",
       "      <th>3</th>\n",
       "      <td>1</td>\n",
       "    </tr>\n",
       "  </tbody>\n",
       "</table>\n",
       "</div>"
      ],
      "text/plain": [
       "   y\n",
       "0  0\n",
       "1  1\n",
       "2  1\n",
       "3  1"
      ]
     },
     "execution_count": 15,
     "metadata": {},
     "output_type": "execute_result"
    }
   ],
   "source": [
    "y= OR[\"y\"]\n",
    "y.to_frame()"
   ]
  },
  {
   "cell_type": "code",
   "execution_count": 16,
   "metadata": {},
   "outputs": [],
   "source": [
    "model_or = Perceptron(eta=0.1,epochs=10)"
   ]
  },
  {
   "cell_type": "code",
   "execution_count": 17,
   "metadata": {},
   "outputs": [
    {
     "name": "stdout",
     "output_type": "stream",
     "text": [
      "X original-\n",
      "    x1  x2\n",
      "0   0   0\n",
      "1   0   1\n",
      "2   1   0\n",
      "3   1   1\n",
      "\n",
      "X with bias-\n",
      "      0    1    2\n",
      "0  0.0  0.0 -1.0\n",
      "1  0.0  1.0 -1.0\n",
      "2  1.0  0.0 -1.0\n",
      "3  1.0  1.0 -1.0\n",
      "\n",
      "Epoch no- 1\n",
      "\n",
      "Predicted Value- [0 0 0 0]\n",
      "\n",
      "Error-\n",
      "0    0\n",
      "1    1\n",
      "2    1\n",
      "3    1\n",
      "Name: y, dtype: int64\n",
      "\n",
      "Absolute Error- 3\n",
      "Weights before update- [-5.57482711e-05 -1.79998556e-05  1.32346451e-04]\n",
      "Weights after update- [ 0.19994425  0.199982   -0.29986765]\n",
      "\n",
      "Epoch no- 2\n",
      "\n",
      "Predicted Value- [1 1 1 1]\n",
      "\n",
      "Error-\n",
      "0   -1\n",
      "1    0\n",
      "2    0\n",
      "3    0\n",
      "Name: y, dtype: int64\n",
      "\n",
      "Absolute Error- 1\n",
      "Weights before update- [ 0.19994425  0.199982   -0.29986765]\n",
      "Weights after update- [ 0.19994425  0.199982   -0.19986765]\n",
      "\n",
      "Epoch no- 3\n",
      "\n",
      "Predicted Value- [1 1 1 1]\n",
      "\n",
      "Error-\n",
      "0   -1\n",
      "1    0\n",
      "2    0\n",
      "3    0\n",
      "Name: y, dtype: int64\n",
      "\n",
      "Absolute Error- 1\n",
      "Weights before update- [ 0.19994425  0.199982   -0.19986765]\n",
      "Weights after update- [ 0.19994425  0.199982   -0.09986765]\n",
      "\n",
      "Epoch no- 4\n",
      "\n",
      "Predicted Value- [1 1 1 1]\n",
      "\n",
      "Error-\n",
      "0   -1\n",
      "1    0\n",
      "2    0\n",
      "3    0\n",
      "Name: y, dtype: int64\n",
      "\n",
      "Absolute Error- 1\n",
      "Weights before update- [ 0.19994425  0.199982   -0.09986765]\n",
      "Weights after update- [1.99944252e-01 1.99982000e-01 1.32346451e-04]\n",
      "\n",
      "Epoch no- 5\n",
      "\n",
      "Predicted Value- [0 1 1 1]\n",
      "\n",
      "Error-\n",
      "0    0\n",
      "1    0\n",
      "2    0\n",
      "3    0\n",
      "Name: y, dtype: int64\n",
      "\n",
      "Absolute Error- 0\n",
      "Weights before update- [1.99944252e-01 1.99982000e-01 1.32346451e-04]\n",
      "\n",
      "Model convergence completed on epoch-5!!\n"
     ]
    }
   ],
   "source": [
    "model_or.fit(X,y)"
   ]
  },
  {
   "cell_type": "markdown",
   "metadata": {},
   "source": [
    "### XOR"
   ]
  },
  {
   "cell_type": "code",
   "execution_count": 18,
   "metadata": {},
   "outputs": [
    {
     "data": {
      "text/html": [
       "<div>\n",
       "<style scoped>\n",
       "    .dataframe tbody tr th:only-of-type {\n",
       "        vertical-align: middle;\n",
       "    }\n",
       "\n",
       "    .dataframe tbody tr th {\n",
       "        vertical-align: top;\n",
       "    }\n",
       "\n",
       "    .dataframe thead th {\n",
       "        text-align: right;\n",
       "    }\n",
       "</style>\n",
       "<table border=\"1\" class=\"dataframe\">\n",
       "  <thead>\n",
       "    <tr style=\"text-align: right;\">\n",
       "      <th></th>\n",
       "      <th>x1</th>\n",
       "      <th>x2</th>\n",
       "      <th>y</th>\n",
       "    </tr>\n",
       "  </thead>\n",
       "  <tbody>\n",
       "    <tr>\n",
       "      <th>0</th>\n",
       "      <td>0</td>\n",
       "      <td>0</td>\n",
       "      <td>0</td>\n",
       "    </tr>\n",
       "    <tr>\n",
       "      <th>1</th>\n",
       "      <td>0</td>\n",
       "      <td>1</td>\n",
       "      <td>1</td>\n",
       "    </tr>\n",
       "    <tr>\n",
       "      <th>2</th>\n",
       "      <td>1</td>\n",
       "      <td>0</td>\n",
       "      <td>1</td>\n",
       "    </tr>\n",
       "    <tr>\n",
       "      <th>3</th>\n",
       "      <td>1</td>\n",
       "      <td>1</td>\n",
       "      <td>0</td>\n",
       "    </tr>\n",
       "  </tbody>\n",
       "</table>\n",
       "</div>"
      ],
      "text/plain": [
       "   x1  x2  y\n",
       "0   0   0  0\n",
       "1   0   1  1\n",
       "2   1   0  1\n",
       "3   1   1  0"
      ]
     },
     "execution_count": 18,
     "metadata": {},
     "output_type": "execute_result"
    }
   ],
   "source": [
    "data={\"x1\":[0,0,1,1],\"x2\":[0,1,0,1],\"y\":[0,1,1,0]}\n",
    "XOR = pd.DataFrame(data)\n",
    "XOR"
   ]
  },
  {
   "cell_type": "code",
   "execution_count": 19,
   "metadata": {},
   "outputs": [
    {
     "data": {
      "text/html": [
       "<div>\n",
       "<style scoped>\n",
       "    .dataframe tbody tr th:only-of-type {\n",
       "        vertical-align: middle;\n",
       "    }\n",
       "\n",
       "    .dataframe tbody tr th {\n",
       "        vertical-align: top;\n",
       "    }\n",
       "\n",
       "    .dataframe thead th {\n",
       "        text-align: right;\n",
       "    }\n",
       "</style>\n",
       "<table border=\"1\" class=\"dataframe\">\n",
       "  <thead>\n",
       "    <tr style=\"text-align: right;\">\n",
       "      <th></th>\n",
       "      <th>x1</th>\n",
       "      <th>x2</th>\n",
       "    </tr>\n",
       "  </thead>\n",
       "  <tbody>\n",
       "    <tr>\n",
       "      <th>0</th>\n",
       "      <td>0</td>\n",
       "      <td>0</td>\n",
       "    </tr>\n",
       "    <tr>\n",
       "      <th>1</th>\n",
       "      <td>0</td>\n",
       "      <td>1</td>\n",
       "    </tr>\n",
       "    <tr>\n",
       "      <th>2</th>\n",
       "      <td>1</td>\n",
       "      <td>0</td>\n",
       "    </tr>\n",
       "    <tr>\n",
       "      <th>3</th>\n",
       "      <td>1</td>\n",
       "      <td>1</td>\n",
       "    </tr>\n",
       "  </tbody>\n",
       "</table>\n",
       "</div>"
      ],
      "text/plain": [
       "   x1  x2\n",
       "0   0   0\n",
       "1   0   1\n",
       "2   1   0\n",
       "3   1   1"
      ]
     },
     "execution_count": 19,
     "metadata": {},
     "output_type": "execute_result"
    }
   ],
   "source": [
    "X = XOR.drop(columns=[\"y\"])\n",
    "X"
   ]
  },
  {
   "cell_type": "code",
   "execution_count": 20,
   "metadata": {},
   "outputs": [
    {
     "data": {
      "text/plain": [
       "0    0\n",
       "1    1\n",
       "2    1\n",
       "3    0\n",
       "Name: y, dtype: int64"
      ]
     },
     "execution_count": 20,
     "metadata": {},
     "output_type": "execute_result"
    }
   ],
   "source": [
    "y=XOR[\"y\"]\n",
    "y"
   ]
  },
  {
   "cell_type": "code",
   "execution_count": 21,
   "metadata": {},
   "outputs": [],
   "source": [
    "model_XOR = Perceptron(eta=0.1, epochs=10)"
   ]
  },
  {
   "cell_type": "code",
   "execution_count": 22,
   "metadata": {},
   "outputs": [
    {
     "name": "stdout",
     "output_type": "stream",
     "text": [
      "X original-\n",
      "    x1  x2\n",
      "0   0   0\n",
      "1   0   1\n",
      "2   1   0\n",
      "3   1   1\n",
      "\n",
      "X with bias-\n",
      "      0    1    2\n",
      "0  0.0  0.0 -1.0\n",
      "1  0.0  1.0 -1.0\n",
      "2  1.0  0.0 -1.0\n",
      "3  1.0  1.0 -1.0\n",
      "\n",
      "Epoch no- 1\n",
      "\n",
      "Predicted Value- [1 1 1 1]\n",
      "\n",
      "Error-\n",
      "0   -1\n",
      "1    0\n",
      "2    0\n",
      "3   -1\n",
      "Name: y, dtype: int64\n",
      "\n",
      "Absolute Error- 2\n",
      "Weights before update- [ 9.45418235e-05  4.41389827e-05 -4.68539397e-05]\n",
      "Weights after update- [-0.09990546 -0.09995586  0.19995315]\n",
      "\n",
      "Epoch no- 2\n",
      "\n",
      "Predicted Value- [0 0 0 0]\n",
      "\n",
      "Error-\n",
      "0    0\n",
      "1    1\n",
      "2    1\n",
      "3    0\n",
      "Name: y, dtype: int64\n",
      "\n",
      "Absolute Error- 2\n",
      "Weights before update- [-0.09990546 -0.09995586  0.19995315]\n",
      "Weights after update- [ 9.45418235e-05  4.41389827e-05 -4.68539397e-05]\n",
      "\n",
      "Epoch no- 3\n",
      "\n",
      "Predicted Value- [1 1 1 1]\n",
      "\n",
      "Error-\n",
      "0   -1\n",
      "1    0\n",
      "2    0\n",
      "3   -1\n",
      "Name: y, dtype: int64\n",
      "\n",
      "Absolute Error- 2\n",
      "Weights before update- [ 9.45418235e-05  4.41389827e-05 -4.68539397e-05]\n",
      "Weights after update- [-0.09990546 -0.09995586  0.19995315]\n",
      "\n",
      "Epoch no- 4\n",
      "\n",
      "Predicted Value- [0 0 0 0]\n",
      "\n",
      "Error-\n",
      "0    0\n",
      "1    1\n",
      "2    1\n",
      "3    0\n",
      "Name: y, dtype: int64\n",
      "\n",
      "Absolute Error- 2\n",
      "Weights before update- [-0.09990546 -0.09995586  0.19995315]\n",
      "Weights after update- [ 9.45418235e-05  4.41389827e-05 -4.68539397e-05]\n",
      "\n",
      "Epoch no- 5\n",
      "\n",
      "Predicted Value- [1 1 1 1]\n",
      "\n",
      "Error-\n",
      "0   -1\n",
      "1    0\n",
      "2    0\n",
      "3   -1\n",
      "Name: y, dtype: int64\n",
      "\n",
      "Absolute Error- 2\n",
      "Weights before update- [ 9.45418235e-05  4.41389827e-05 -4.68539397e-05]\n",
      "Weights after update- [-0.09990546 -0.09995586  0.19995315]\n",
      "\n",
      "Epoch no- 6\n",
      "\n",
      "Predicted Value- [0 0 0 0]\n",
      "\n",
      "Error-\n",
      "0    0\n",
      "1    1\n",
      "2    1\n",
      "3    0\n",
      "Name: y, dtype: int64\n",
      "\n",
      "Absolute Error- 2\n",
      "Weights before update- [-0.09990546 -0.09995586  0.19995315]\n",
      "Weights after update- [ 9.45418235e-05  4.41389827e-05 -4.68539397e-05]\n",
      "\n",
      "Epoch no- 7\n",
      "\n",
      "Predicted Value- [1 1 1 1]\n",
      "\n",
      "Error-\n",
      "0   -1\n",
      "1    0\n",
      "2    0\n",
      "3   -1\n",
      "Name: y, dtype: int64\n",
      "\n",
      "Absolute Error- 2\n",
      "Weights before update- [ 9.45418235e-05  4.41389827e-05 -4.68539397e-05]\n",
      "Weights after update- [-0.09990546 -0.09995586  0.19995315]\n",
      "\n",
      "Epoch no- 8\n",
      "\n",
      "Predicted Value- [0 0 0 0]\n",
      "\n",
      "Error-\n",
      "0    0\n",
      "1    1\n",
      "2    1\n",
      "3    0\n",
      "Name: y, dtype: int64\n",
      "\n",
      "Absolute Error- 2\n",
      "Weights before update- [-0.09990546 -0.09995586  0.19995315]\n",
      "Weights after update- [ 9.45418235e-05  4.41389827e-05 -4.68539397e-05]\n",
      "\n",
      "Epoch no- 9\n",
      "\n",
      "Predicted Value- [1 1 1 1]\n",
      "\n",
      "Error-\n",
      "0   -1\n",
      "1    0\n",
      "2    0\n",
      "3   -1\n",
      "Name: y, dtype: int64\n",
      "\n",
      "Absolute Error- 2\n",
      "Weights before update- [ 9.45418235e-05  4.41389827e-05 -4.68539397e-05]\n",
      "Weights after update- [-0.09990546 -0.09995586  0.19995315]\n",
      "\n",
      "Epoch no- 10\n",
      "\n",
      "Predicted Value- [0 0 0 0]\n",
      "\n",
      "Error-\n",
      "0    0\n",
      "1    1\n",
      "2    1\n",
      "3    0\n",
      "Name: y, dtype: int64\n",
      "\n",
      "Absolute Error- 2\n",
      "Weights before update- [-0.09990546 -0.09995586  0.19995315]\n",
      "Weights after update- [ 9.45418235e-05  4.41389827e-05 -4.68539397e-05]\n"
     ]
    }
   ],
   "source": [
    "model_XOR.fit(X,y)"
   ]
  },
  {
   "cell_type": "code",
   "execution_count": 23,
   "metadata": {},
   "outputs": [
    {
     "data": {
      "text/plain": [
       "array([1, 1, 1, 1])"
      ]
     },
     "execution_count": 23,
     "metadata": {},
     "output_type": "execute_result"
    }
   ],
   "source": [
    "model_XOR.predict(X)"
   ]
  },
  {
   "cell_type": "code",
   "execution_count": 84,
   "metadata": {},
   "outputs": [
    {
     "data": {
      "text/plain": [
       "array([0, 1, 1, 0], dtype=int64)"
      ]
     },
     "execution_count": 84,
     "metadata": {},
     "output_type": "execute_result"
    }
   ],
   "source": [
    "##expected result from model_XOR predictions\n",
    "np.array(y)"
   ]
  },
  {
   "cell_type": "markdown",
   "metadata": {},
   "source": [
    "### Analysis with Graph"
   ]
  },
  {
   "cell_type": "markdown",
   "metadata": {},
   "source": [
    "#### AND"
   ]
  },
  {
   "cell_type": "code",
   "execution_count": 98,
   "metadata": {},
   "outputs": [
    {
     "data": {
      "text/plain": [
       "[<matplotlib.lines.Line2D at 0x23ff4bbb518>]"
      ]
     },
     "execution_count": 98,
     "metadata": {},
     "output_type": "execute_result"
    },
    {
     "data": {
      "image/png": "[encoded data removed]",
      "text/plain": [
       "<Figure size 640x480 with 2 Axes>"
      ]
     },
     "metadata": {},
     "output_type": "display_data"
    }
   ],
   "source": [
    "AND.plot(kind=\"scatter\", x=\"x1\", y=\"x2\", c=\"y\",s=300, cmap=\"winter\")\n",
    "plt.axhline(y=0, color=\"black\",linestyle=\"--\")\n",
    "plt.axvline(x=0, color=\"black\",linestyle=\"--\")\n",
    "plt.plot(np.linspace(0,1.4),1.5 - np.linspace(0,1.5),\"r--\")"
   ]
  },
  {
   "cell_type": "markdown",
   "metadata": {},
   "source": [
    "#### OR"
   ]
  },
  {
   "cell_type": "code",
   "execution_count": 105,
   "metadata": {},
   "outputs": [
    {
     "data": {
      "text/plain": [
       "[<matplotlib.lines.Line2D at 0x23ff5f7e198>]"
      ]
     },
     "execution_count": 105,
     "metadata": {},
     "output_type": "execute_result"
    },
    {
     "data": {
      "image/png": "[encoded data removed]",
      "text/plain": [
       "<Figure size 640x480 with 2 Axes>"
      ]
     },
     "metadata": {},
     "output_type": "display_data"
    }
   ],
   "source": [
    "OR.plot(kind=\"scatter\", x=\"x1\", y=\"x2\", c=\"y\",s=300, cmap=\"winter\")\n",
    "plt.axhline(y=0, color=\"black\",linestyle=\"--\")\n",
    "plt.axvline(x=0, color=\"black\",linestyle=\"--\")\n",
    "plt.plot(np.linspace(0,.8),.8 - np.linspace(0,.8),\"r--\")"
   ]
  },
  {
   "cell_type": "markdown",
   "metadata": {},
   "source": [
    "#### XOR"
   ]
  },
  {
   "cell_type": "code",
   "execution_count": 116,
   "metadata": {},
   "outputs": [
    {
     "data": {
      "text/plain": [
       "[<matplotlib.lines.Line2D at 0x23ff85d4630>]"
      ]
     },
     "execution_count": 116,
     "metadata": {},
     "output_type": "execute_result"
    },
    {
     "data": {
      "image/png": "[encoded data removed]",
      "text/plain": [
       "<Figure size 640x480 with 2 Axes>"
      ]
     },
     "metadata": {},
     "output_type": "display_data"
    }
   ],
   "source": [
    "XOR.plot(kind=\"scatter\", x=\"x1\", y=\"x2\", c=\"y\",s=300, cmap=\"winter\")\n",
    "plt.axhline(y=0, color=\"black\",linestyle=\"--\")\n",
    "plt.axvline(x=0, color=\"black\",linestyle=\"--\")\n",
    "plt.plot(np.linspace(0,.8),.8 - np.linspace(0,.8),\"r--\")\n",
    "plt.plot(np.linspace(.6,1),1 - np.linspace(0,.5),\"r--\")"
   ]
  },
  {
   "cell_type": "markdown",
   "metadata": {},
   "source": [
    "## Questions"
   ]
  },
  {
   "cell_type": "markdown",
   "metadata": {},
   "source": [
    "Why we use Activation Function in Neural Network?"
   ]
  },
  {
   "cell_type": "code",
   "execution_count": null,
   "metadata": {},
   "outputs": [],
   "source": []
  }
 ],
 "metadata": {
  "kernelspec": {
   "display_name": "Python 3 (ipykernel)",
   "language": "python",
   "name": "python3"
  },
  "language_info": {
   "codemirror_mode": {
    "name": "ipython",
    "version": 3
   },
   "file_extension": ".py",
   "mimetype": "text/x-python",
   "name": "python",
   "nbconvert_exporter": "python",
   "pygments_lexer": "ipython3",
   "version": "3.7.0"
  },
  "toc-autonumbering": true,
  "toc-showcode": false,
  "toc-showmarkdowntxt": false,
  "toc-showtags": false,
  "vscode": {
   "interpreter": {
    "hash": "ddc13df767f959abfec5019cb30851c6bf6bfea051c80ab1b508c32751d62b53"
   }
  }
 },
 "nbformat": 4,
 "nbformat_minor": 4
}
